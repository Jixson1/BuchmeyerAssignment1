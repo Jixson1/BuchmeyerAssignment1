{
  "nbformat": 4,
  "nbformat_minor": 0,
  "metadata": {
    "colab": {
      "name": "Notebook2.ipynb",
      "provenance": [],
      "collapsed_sections": [],
      "include_colab_link": true
    },
    "kernelspec": {
      "name": "python3",
      "display_name": "Python 3"
    },
    "language_info": {
      "name": "python"
    }
  },
  "cells": [
    {
      "cell_type": "markdown",
      "metadata": {
        "id": "view-in-github",
        "colab_type": "text"
      },
      "source": [
        "<a href=\"https://colab.research.google.com/github/Jixson1/BuchmeyerAssignment1/blob/main/Notebook2_Buchmeyer.ipynb\" target=\"_parent\"><img src=\"https://colab.research.google.com/assets/colab-badge.svg\" alt=\"Open In Colab\"/></a>"
      ]
    },
    {
      "cell_type": "markdown",
      "source": [
        "# Notebook #2: K Nearest Neighbors and Normalization\n",
        "**Name: Jackson Buchmeyer**\n",
        "\n",
        "\n",
        "## Load in the data:\n",
        "You'll notice that there are a lot of columns here. We're going to work with a subset of these columns, not the entire dataset."
      ],
      "metadata": {
        "id": "znLmB8BEzT9M"
      }
    },
    {
      "cell_type": "code",
      "execution_count": 1,
      "metadata": {
        "id": "pEUiWYhVWPxa",
        "outputId": "ae6c2752-b1c6-4d2d-b898-00a466f9acef",
        "colab": {
          "base_uri": "https://localhost:8080/"
        }
      },
      "outputs": [
        {
          "output_type": "stream",
          "name": "stdout",
          "text": [
            "Mounted at /content/drive\n"
          ]
        }
      ],
      "source": [
        "import pandas\n",
        "import numpy\n",
        "from google.colab import drive \n",
        "drive.mount('/content/drive')\n"
      ]
    },
    {
      "cell_type": "code",
      "source": [
        "data = pandas.read_csv('/content/drive/MyDrive/CS167Spring22/datasets/LifeExpectancyData.csv')\n",
        "data.head()"
      ],
      "metadata": {
        "id": "BH2QSsCHD9Iz",
        "outputId": "fb2b1b58-bd64-458c-e2c4-34c28b6efa38",
        "colab": {
          "base_uri": "https://localhost:8080/",
          "height": 285
        }
      },
      "execution_count": 76,
      "outputs": [
        {
          "output_type": "execute_result",
          "data": {
            "text/html": [
              "\n",
              "  <div id=\"df-4cb76ecc-b2b7-4dec-807a-1b9f3fbf5e9d\">\n",
              "    <div class=\"colab-df-container\">\n",
              "      <div>\n",
              "<style scoped>\n",
              "    .dataframe tbody tr th:only-of-type {\n",
              "        vertical-align: middle;\n",
              "    }\n",
              "\n",
              "    .dataframe tbody tr th {\n",
              "        vertical-align: top;\n",
              "    }\n",
              "\n",
              "    .dataframe thead th {\n",
              "        text-align: right;\n",
              "    }\n",
              "</style>\n",
              "<table border=\"1\" class=\"dataframe\">\n",
              "  <thead>\n",
              "    <tr style=\"text-align: right;\">\n",
              "      <th></th>\n",
              "      <th>Country</th>\n",
              "      <th>Year</th>\n",
              "      <th>Status</th>\n",
              "      <th>Life expectancy</th>\n",
              "      <th>Adult Mortality</th>\n",
              "      <th>infant deaths</th>\n",
              "      <th>Alcohol</th>\n",
              "      <th>percentage expenditure</th>\n",
              "      <th>Hepatitis B</th>\n",
              "      <th>Measles</th>\n",
              "      <th>BMI</th>\n",
              "      <th>under-five deaths</th>\n",
              "      <th>Polio</th>\n",
              "      <th>Total expenditure</th>\n",
              "      <th>Diphtheria</th>\n",
              "      <th>HIV/AIDS</th>\n",
              "      <th>GDP</th>\n",
              "      <th>Population</th>\n",
              "      <th>thinness  1-19 years</th>\n",
              "      <th>thinness 5-9 years</th>\n",
              "      <th>Income composition of resources</th>\n",
              "      <th>Schooling</th>\n",
              "    </tr>\n",
              "  </thead>\n",
              "  <tbody>\n",
              "    <tr>\n",
              "      <th>0</th>\n",
              "      <td>Afghanistan</td>\n",
              "      <td>2015</td>\n",
              "      <td>Developing</td>\n",
              "      <td>65.0</td>\n",
              "      <td>263.0</td>\n",
              "      <td>62.0</td>\n",
              "      <td>0.01</td>\n",
              "      <td>71.279624</td>\n",
              "      <td>65.0</td>\n",
              "      <td>1154.0</td>\n",
              "      <td>19.1</td>\n",
              "      <td>83.0</td>\n",
              "      <td>6.0</td>\n",
              "      <td>8.16</td>\n",
              "      <td>65.0</td>\n",
              "      <td>0.1</td>\n",
              "      <td>584.259210</td>\n",
              "      <td>33736494.0</td>\n",
              "      <td>17.2</td>\n",
              "      <td>17.3</td>\n",
              "      <td>0.479</td>\n",
              "      <td>10.1</td>\n",
              "    </tr>\n",
              "    <tr>\n",
              "      <th>1</th>\n",
              "      <td>Afghanistan</td>\n",
              "      <td>2014</td>\n",
              "      <td>Developing</td>\n",
              "      <td>59.9</td>\n",
              "      <td>271.0</td>\n",
              "      <td>64.0</td>\n",
              "      <td>0.01</td>\n",
              "      <td>73.523582</td>\n",
              "      <td>62.0</td>\n",
              "      <td>492.0</td>\n",
              "      <td>18.6</td>\n",
              "      <td>86.0</td>\n",
              "      <td>58.0</td>\n",
              "      <td>8.18</td>\n",
              "      <td>62.0</td>\n",
              "      <td>0.1</td>\n",
              "      <td>612.696514</td>\n",
              "      <td>327582.0</td>\n",
              "      <td>17.5</td>\n",
              "      <td>17.5</td>\n",
              "      <td>0.476</td>\n",
              "      <td>10.0</td>\n",
              "    </tr>\n",
              "    <tr>\n",
              "      <th>2</th>\n",
              "      <td>Afghanistan</td>\n",
              "      <td>2013</td>\n",
              "      <td>Developing</td>\n",
              "      <td>59.9</td>\n",
              "      <td>268.0</td>\n",
              "      <td>66.0</td>\n",
              "      <td>0.01</td>\n",
              "      <td>73.219243</td>\n",
              "      <td>64.0</td>\n",
              "      <td>430.0</td>\n",
              "      <td>18.1</td>\n",
              "      <td>89.0</td>\n",
              "      <td>62.0</td>\n",
              "      <td>8.13</td>\n",
              "      <td>64.0</td>\n",
              "      <td>0.1</td>\n",
              "      <td>631.744976</td>\n",
              "      <td>31731688.0</td>\n",
              "      <td>17.7</td>\n",
              "      <td>17.7</td>\n",
              "      <td>0.470</td>\n",
              "      <td>9.9</td>\n",
              "    </tr>\n",
              "    <tr>\n",
              "      <th>3</th>\n",
              "      <td>Afghanistan</td>\n",
              "      <td>2012</td>\n",
              "      <td>Developing</td>\n",
              "      <td>59.5</td>\n",
              "      <td>272.0</td>\n",
              "      <td>69.0</td>\n",
              "      <td>0.01</td>\n",
              "      <td>78.184215</td>\n",
              "      <td>67.0</td>\n",
              "      <td>2787.0</td>\n",
              "      <td>17.6</td>\n",
              "      <td>93.0</td>\n",
              "      <td>67.0</td>\n",
              "      <td>8.52</td>\n",
              "      <td>67.0</td>\n",
              "      <td>0.1</td>\n",
              "      <td>669.959000</td>\n",
              "      <td>3696958.0</td>\n",
              "      <td>17.9</td>\n",
              "      <td>18.0</td>\n",
              "      <td>0.463</td>\n",
              "      <td>9.8</td>\n",
              "    </tr>\n",
              "    <tr>\n",
              "      <th>4</th>\n",
              "      <td>Afghanistan</td>\n",
              "      <td>2011</td>\n",
              "      <td>Developing</td>\n",
              "      <td>59.2</td>\n",
              "      <td>275.0</td>\n",
              "      <td>71.0</td>\n",
              "      <td>0.01</td>\n",
              "      <td>7.097109</td>\n",
              "      <td>68.0</td>\n",
              "      <td>3013.0</td>\n",
              "      <td>17.2</td>\n",
              "      <td>97.0</td>\n",
              "      <td>68.0</td>\n",
              "      <td>7.87</td>\n",
              "      <td>68.0</td>\n",
              "      <td>0.1</td>\n",
              "      <td>63.537231</td>\n",
              "      <td>2978599.0</td>\n",
              "      <td>18.2</td>\n",
              "      <td>18.2</td>\n",
              "      <td>0.454</td>\n",
              "      <td>9.5</td>\n",
              "    </tr>\n",
              "  </tbody>\n",
              "</table>\n",
              "</div>\n",
              "      <button class=\"colab-df-convert\" onclick=\"convertToInteractive('df-4cb76ecc-b2b7-4dec-807a-1b9f3fbf5e9d')\"\n",
              "              title=\"Convert this dataframe to an interactive table.\"\n",
              "              style=\"display:none;\">\n",
              "        \n",
              "  <svg xmlns=\"http://www.w3.org/2000/svg\" height=\"24px\"viewBox=\"0 0 24 24\"\n",
              "       width=\"24px\">\n",
              "    <path d=\"M0 0h24v24H0V0z\" fill=\"none\"/>\n",
              "    <path d=\"M18.56 5.44l.94 2.06.94-2.06 2.06-.94-2.06-.94-.94-2.06-.94 2.06-2.06.94zm-11 1L8.5 8.5l.94-2.06 2.06-.94-2.06-.94L8.5 2.5l-.94 2.06-2.06.94zm10 10l.94 2.06.94-2.06 2.06-.94-2.06-.94-.94-2.06-.94 2.06-2.06.94z\"/><path d=\"M17.41 7.96l-1.37-1.37c-.4-.4-.92-.59-1.43-.59-.52 0-1.04.2-1.43.59L10.3 9.45l-7.72 7.72c-.78.78-.78 2.05 0 2.83L4 21.41c.39.39.9.59 1.41.59.51 0 1.02-.2 1.41-.59l7.78-7.78 2.81-2.81c.8-.78.8-2.07 0-2.86zM5.41 20L4 18.59l7.72-7.72 1.47 1.35L5.41 20z\"/>\n",
              "  </svg>\n",
              "      </button>\n",
              "      \n",
              "  <style>\n",
              "    .colab-df-container {\n",
              "      display:flex;\n",
              "      flex-wrap:wrap;\n",
              "      gap: 12px;\n",
              "    }\n",
              "\n",
              "    .colab-df-convert {\n",
              "      background-color: #E8F0FE;\n",
              "      border: none;\n",
              "      border-radius: 50%;\n",
              "      cursor: pointer;\n",
              "      display: none;\n",
              "      fill: #1967D2;\n",
              "      height: 32px;\n",
              "      padding: 0 0 0 0;\n",
              "      width: 32px;\n",
              "    }\n",
              "\n",
              "    .colab-df-convert:hover {\n",
              "      background-color: #E2EBFA;\n",
              "      box-shadow: 0px 1px 2px rgba(60, 64, 67, 0.3), 0px 1px 3px 1px rgba(60, 64, 67, 0.15);\n",
              "      fill: #174EA6;\n",
              "    }\n",
              "\n",
              "    [theme=dark] .colab-df-convert {\n",
              "      background-color: #3B4455;\n",
              "      fill: #D2E3FC;\n",
              "    }\n",
              "\n",
              "    [theme=dark] .colab-df-convert:hover {\n",
              "      background-color: #434B5C;\n",
              "      box-shadow: 0px 1px 3px 1px rgba(0, 0, 0, 0.15);\n",
              "      filter: drop-shadow(0px 1px 2px rgba(0, 0, 0, 0.3));\n",
              "      fill: #FFFFFF;\n",
              "    }\n",
              "  </style>\n",
              "\n",
              "      <script>\n",
              "        const buttonEl =\n",
              "          document.querySelector('#df-4cb76ecc-b2b7-4dec-807a-1b9f3fbf5e9d button.colab-df-convert');\n",
              "        buttonEl.style.display =\n",
              "          google.colab.kernel.accessAllowed ? 'block' : 'none';\n",
              "\n",
              "        async function convertToInteractive(key) {\n",
              "          const element = document.querySelector('#df-4cb76ecc-b2b7-4dec-807a-1b9f3fbf5e9d');\n",
              "          const dataTable =\n",
              "            await google.colab.kernel.invokeFunction('convertToInteractive',\n",
              "                                                     [key], {});\n",
              "          if (!dataTable) return;\n",
              "\n",
              "          const docLinkHtml = 'Like what you see? Visit the ' +\n",
              "            '<a target=\"_blank\" href=https://colab.research.google.com/notebooks/data_table.ipynb>data table notebook</a>'\n",
              "            + ' to learn more about interactive tables.';\n",
              "          element.innerHTML = '';\n",
              "          dataTable['output_type'] = 'display_data';\n",
              "          await google.colab.output.renderOutput(dataTable, element);\n",
              "          const docLink = document.createElement('div');\n",
              "          docLink.innerHTML = docLinkHtml;\n",
              "          element.appendChild(docLink);\n",
              "        }\n",
              "      </script>\n",
              "    </div>\n",
              "  </div>\n",
              "  "
            ],
            "text/plain": [
              "       Country  Year  ... Income composition of resources  Schooling\n",
              "0  Afghanistan  2015  ...                           0.479       10.1\n",
              "1  Afghanistan  2014  ...                           0.476       10.0\n",
              "2  Afghanistan  2013  ...                           0.470        9.9\n",
              "3  Afghanistan  2012  ...                           0.463        9.8\n",
              "4  Afghanistan  2011  ...                           0.454        9.5\n",
              "\n",
              "[5 rows x 22 columns]"
            ]
          },
          "metadata": {},
          "execution_count": 76
        }
      ]
    },
    {
      "cell_type": "markdown",
      "source": [
        "## Exercise #1: \n",
        "**Work with the right subset**: \n",
        "\n",
        "You're not going to work with the whole data set, just the 'Status', 'Life expectancy' and 3-5 additional features of your choice. To start, make this subset of the original data. Also, make sure your subset contains only countries with the 'Status' feature as **Developing**.\n",
        "\n",
        "*hint: your initial subset should have between 2,000 and 2,500 rows.*"
      ],
      "metadata": {
        "id": "OYCfn1aKzmJ5"
      }
    },
    {
      "cell_type": "code",
      "source": [
        "data.shape"
      ],
      "metadata": {
        "id": "eVlU1oiLNQys",
        "outputId": "dcb098d9-43b1-459b-9561-796ca7bc2917",
        "colab": {
          "base_uri": "https://localhost:8080/"
        }
      },
      "execution_count": 77,
      "outputs": [
        {
          "output_type": "execute_result",
          "data": {
            "text/plain": [
              "(2938, 22)"
            ]
          },
          "metadata": {},
          "execution_count": 77
        }
      ]
    },
    {
      "cell_type": "code",
      "source": [
        "subset1 = data[data['Status'] == 'Developing'][['Status', 'Life expectancy', 'percentage expenditure', 'Measles', 'under-five deaths', 'Population']]\n",
        "subset1.head()"
      ],
      "metadata": {
        "id": "iEUVHUCXNCge",
        "outputId": "8abfd3dd-7c78-4b36-c59d-cb1e4955180c",
        "colab": {
          "base_uri": "https://localhost:8080/",
          "height": 206
        }
      },
      "execution_count": 78,
      "outputs": [
        {
          "output_type": "execute_result",
          "data": {
            "text/html": [
              "\n",
              "  <div id=\"df-da4d54eb-f76c-4742-85ea-450864183060\">\n",
              "    <div class=\"colab-df-container\">\n",
              "      <div>\n",
              "<style scoped>\n",
              "    .dataframe tbody tr th:only-of-type {\n",
              "        vertical-align: middle;\n",
              "    }\n",
              "\n",
              "    .dataframe tbody tr th {\n",
              "        vertical-align: top;\n",
              "    }\n",
              "\n",
              "    .dataframe thead th {\n",
              "        text-align: right;\n",
              "    }\n",
              "</style>\n",
              "<table border=\"1\" class=\"dataframe\">\n",
              "  <thead>\n",
              "    <tr style=\"text-align: right;\">\n",
              "      <th></th>\n",
              "      <th>Status</th>\n",
              "      <th>Life expectancy</th>\n",
              "      <th>percentage expenditure</th>\n",
              "      <th>Measles</th>\n",
              "      <th>under-five deaths</th>\n",
              "      <th>Population</th>\n",
              "    </tr>\n",
              "  </thead>\n",
              "  <tbody>\n",
              "    <tr>\n",
              "      <th>0</th>\n",
              "      <td>Developing</td>\n",
              "      <td>65.0</td>\n",
              "      <td>71.279624</td>\n",
              "      <td>1154.0</td>\n",
              "      <td>83.0</td>\n",
              "      <td>33736494.0</td>\n",
              "    </tr>\n",
              "    <tr>\n",
              "      <th>1</th>\n",
              "      <td>Developing</td>\n",
              "      <td>59.9</td>\n",
              "      <td>73.523582</td>\n",
              "      <td>492.0</td>\n",
              "      <td>86.0</td>\n",
              "      <td>327582.0</td>\n",
              "    </tr>\n",
              "    <tr>\n",
              "      <th>2</th>\n",
              "      <td>Developing</td>\n",
              "      <td>59.9</td>\n",
              "      <td>73.219243</td>\n",
              "      <td>430.0</td>\n",
              "      <td>89.0</td>\n",
              "      <td>31731688.0</td>\n",
              "    </tr>\n",
              "    <tr>\n",
              "      <th>3</th>\n",
              "      <td>Developing</td>\n",
              "      <td>59.5</td>\n",
              "      <td>78.184215</td>\n",
              "      <td>2787.0</td>\n",
              "      <td>93.0</td>\n",
              "      <td>3696958.0</td>\n",
              "    </tr>\n",
              "    <tr>\n",
              "      <th>4</th>\n",
              "      <td>Developing</td>\n",
              "      <td>59.2</td>\n",
              "      <td>7.097109</td>\n",
              "      <td>3013.0</td>\n",
              "      <td>97.0</td>\n",
              "      <td>2978599.0</td>\n",
              "    </tr>\n",
              "  </tbody>\n",
              "</table>\n",
              "</div>\n",
              "      <button class=\"colab-df-convert\" onclick=\"convertToInteractive('df-da4d54eb-f76c-4742-85ea-450864183060')\"\n",
              "              title=\"Convert this dataframe to an interactive table.\"\n",
              "              style=\"display:none;\">\n",
              "        \n",
              "  <svg xmlns=\"http://www.w3.org/2000/svg\" height=\"24px\"viewBox=\"0 0 24 24\"\n",
              "       width=\"24px\">\n",
              "    <path d=\"M0 0h24v24H0V0z\" fill=\"none\"/>\n",
              "    <path d=\"M18.56 5.44l.94 2.06.94-2.06 2.06-.94-2.06-.94-.94-2.06-.94 2.06-2.06.94zm-11 1L8.5 8.5l.94-2.06 2.06-.94-2.06-.94L8.5 2.5l-.94 2.06-2.06.94zm10 10l.94 2.06.94-2.06 2.06-.94-2.06-.94-.94-2.06-.94 2.06-2.06.94z\"/><path d=\"M17.41 7.96l-1.37-1.37c-.4-.4-.92-.59-1.43-.59-.52 0-1.04.2-1.43.59L10.3 9.45l-7.72 7.72c-.78.78-.78 2.05 0 2.83L4 21.41c.39.39.9.59 1.41.59.51 0 1.02-.2 1.41-.59l7.78-7.78 2.81-2.81c.8-.78.8-2.07 0-2.86zM5.41 20L4 18.59l7.72-7.72 1.47 1.35L5.41 20z\"/>\n",
              "  </svg>\n",
              "      </button>\n",
              "      \n",
              "  <style>\n",
              "    .colab-df-container {\n",
              "      display:flex;\n",
              "      flex-wrap:wrap;\n",
              "      gap: 12px;\n",
              "    }\n",
              "\n",
              "    .colab-df-convert {\n",
              "      background-color: #E8F0FE;\n",
              "      border: none;\n",
              "      border-radius: 50%;\n",
              "      cursor: pointer;\n",
              "      display: none;\n",
              "      fill: #1967D2;\n",
              "      height: 32px;\n",
              "      padding: 0 0 0 0;\n",
              "      width: 32px;\n",
              "    }\n",
              "\n",
              "    .colab-df-convert:hover {\n",
              "      background-color: #E2EBFA;\n",
              "      box-shadow: 0px 1px 2px rgba(60, 64, 67, 0.3), 0px 1px 3px 1px rgba(60, 64, 67, 0.15);\n",
              "      fill: #174EA6;\n",
              "    }\n",
              "\n",
              "    [theme=dark] .colab-df-convert {\n",
              "      background-color: #3B4455;\n",
              "      fill: #D2E3FC;\n",
              "    }\n",
              "\n",
              "    [theme=dark] .colab-df-convert:hover {\n",
              "      background-color: #434B5C;\n",
              "      box-shadow: 0px 1px 3px 1px rgba(0, 0, 0, 0.15);\n",
              "      filter: drop-shadow(0px 1px 2px rgba(0, 0, 0, 0.3));\n",
              "      fill: #FFFFFF;\n",
              "    }\n",
              "  </style>\n",
              "\n",
              "      <script>\n",
              "        const buttonEl =\n",
              "          document.querySelector('#df-da4d54eb-f76c-4742-85ea-450864183060 button.colab-df-convert');\n",
              "        buttonEl.style.display =\n",
              "          google.colab.kernel.accessAllowed ? 'block' : 'none';\n",
              "\n",
              "        async function convertToInteractive(key) {\n",
              "          const element = document.querySelector('#df-da4d54eb-f76c-4742-85ea-450864183060');\n",
              "          const dataTable =\n",
              "            await google.colab.kernel.invokeFunction('convertToInteractive',\n",
              "                                                     [key], {});\n",
              "          if (!dataTable) return;\n",
              "\n",
              "          const docLinkHtml = 'Like what you see? Visit the ' +\n",
              "            '<a target=\"_blank\" href=https://colab.research.google.com/notebooks/data_table.ipynb>data table notebook</a>'\n",
              "            + ' to learn more about interactive tables.';\n",
              "          element.innerHTML = '';\n",
              "          dataTable['output_type'] = 'display_data';\n",
              "          await google.colab.output.renderOutput(dataTable, element);\n",
              "          const docLink = document.createElement('div');\n",
              "          docLink.innerHTML = docLinkHtml;\n",
              "          element.appendChild(docLink);\n",
              "        }\n",
              "      </script>\n",
              "    </div>\n",
              "  </div>\n",
              "  "
            ],
            "text/plain": [
              "       Status  Life expectancy  ...  under-five deaths  Population\n",
              "0  Developing             65.0  ...               83.0  33736494.0\n",
              "1  Developing             59.9  ...               86.0    327582.0\n",
              "2  Developing             59.9  ...               89.0  31731688.0\n",
              "3  Developing             59.5  ...               93.0   3696958.0\n",
              "4  Developing             59.2  ...               97.0   2978599.0\n",
              "\n",
              "[5 rows x 6 columns]"
            ]
          },
          "metadata": {},
          "execution_count": 78
        }
      ]
    },
    {
      "cell_type": "code",
      "source": [
        "subset1.shape"
      ],
      "metadata": {
        "colab": {
          "base_uri": "https://localhost:8080/"
        },
        "id": "LOL0id7Ygo_1",
        "outputId": "9d47ba74-b36b-4afd-d7bf-bb2649a8b76d"
      },
      "execution_count": 79,
      "outputs": [
        {
          "output_type": "execute_result",
          "data": {
            "text/plain": [
              "(2426, 6)"
            ]
          },
          "metadata": {},
          "execution_count": 79
        }
      ]
    },
    {
      "cell_type": "markdown",
      "source": [
        "## Exercise #2:\n",
        "**Check for null values**: If you have a null target value ('Life expectancy'), you will need to throw that example out. \n",
        "\n",
        "Replace each of the null values within your predictors with the average of the column.\n",
        "\n",
        "*hint: Useful functions here are `isna()`, `any()`, `fillna()`, `value_counts()` and `dropna()`. If you're not sure what these do, look them up in the [pandas documentation](https://pandas.pydata.org/docs/).*\n",
        "\n",
        "After you have eliminated null values, use `.isna().any()` to verify that your fields no longer contain any null values (all of the values should be False). "
      ],
      "metadata": {
        "id": "R0u87ioL0fHe"
      }
    },
    {
      "cell_type": "code",
      "source": [
        "clean_subset = subset1.dropna(subset = ['Life expectancy']).copy()\n",
        "clean_subset.shape"
      ],
      "metadata": {
        "colab": {
          "base_uri": "https://localhost:8080/"
        },
        "id": "G8c1wjL3grZb",
        "outputId": "7fbc1461-c564-465e-ea7d-ae16319c398b"
      },
      "execution_count": 80,
      "outputs": [
        {
          "output_type": "execute_result",
          "data": {
            "text/plain": [
              "(2400, 6)"
            ]
          },
          "metadata": {},
          "execution_count": 80
        }
      ]
    },
    {
      "cell_type": "code",
      "source": [
        "clean_subset['Measles'].fillna(clean_subset['Measles'].mean(), inplace=True)\n",
        "clean_subset['under-five deaths'].fillna(clean_subset['under-five deaths'].mean(), inplace=True)\n",
        "clean_subset['percentage expenditure'].fillna(clean_subset['percentage expenditure'].mean(), inplace=True)\n",
        "clean_subset['Population'].fillna(clean_subset['Population'].mean(), inplace=True)\n",
        "\n",
        "clean_subset.isna().any()"
      ],
      "metadata": {
        "colab": {
          "base_uri": "https://localhost:8080/"
        },
        "id": "WOAqoY6DiJco",
        "outputId": "98dd43a1-d5d8-45aa-8a49-7837f84edaa8"
      },
      "execution_count": 81,
      "outputs": [
        {
          "output_type": "execute_result",
          "data": {
            "text/plain": [
              "Status                    False\n",
              "Life expectancy           False\n",
              "percentage expenditure    False\n",
              "Measles                   False\n",
              "under-five deaths         False\n",
              "Population                False\n",
              "dtype: bool"
            ]
          },
          "metadata": {},
          "execution_count": 81
        }
      ]
    },
    {
      "cell_type": "markdown",
      "source": [
        "## Exercise #3\n",
        "Write up a k-nearest-neighbors function like the one you made for the iris data set in class. It should be able to make life expectancy predictions for new countries. You should also be able to specify what you want to use as k.\n",
        "\n",
        "You will need to incorporate the predictor features that you have chosen to be a part of your subset in your knn function.\n",
        "\n",
        "Pay special attention to whether this problem is a classification or a regression, and how the answer to that question may change the output of your model. "
      ],
      "metadata": {
        "id": "BKlHFlGP1OLG"
      }
    },
    {
      "cell_type": "code",
      "source": [
        "# knn\n",
        "def knn(country, data, k):\n",
        "  data_copy = data.copy()\n",
        "  data_copy['distance_to_new'] = numpy.sqrt(\n",
        "    (country['percentage expenditure']-data['percentage expenditure'])**2\n",
        "    +(country['Measles']-data['Measles'])**2\n",
        "    +(country['under-five deaths']-data['under-five deaths'])**2\n",
        "    +(country['Population']-data['Population'])**2)\n",
        "  \n",
        "  sorted_data = data_copy.sort_values(['distance_to_new'])\n",
        "  # regression so calculate mean() of closest samples \n",
        "  return sorted_data.iloc[0:k]['Life expectancy'].mean()"
      ],
      "metadata": {
        "id": "YVtnLQW9jCeB"
      },
      "execution_count": 83,
      "outputs": []
    },
    {
      "cell_type": "markdown",
      "source": [
        "## Exercise #4\n",
        "Demonstrate that your function works by making up some new values for hypothetical countries and using your function to display the predicted life expectancy for that country.\n"
      ],
      "metadata": {
        "id": "B9UXCYtC1pOP"
      }
    },
    {
      "cell_type": "code",
      "source": [
        "Jacksonia = {\n",
        "    'percentage expenditure': 50,\n",
        "    'Measles': 2000,\n",
        "    'under-five deaths': 500,\n",
        "    'Population': 12345\n",
        "}\n",
        "\n",
        "Urnessia = {\n",
        "    'percentage expenditure': 20,\n",
        "    'Measles': 50000,\n",
        "    'under-five deaths': 0,\n",
        "    'Population': 2000000\n",
        "}\n",
        "\n",
        "# k = 100\n",
        "print('Jacksonia Life Expectancy: ', knn(Jacksonia, clean_subset, 100))\n",
        "print('Urnessia Life Expectancy: ', knn(Urnessia, clean_subset, 100))"
      ],
      "metadata": {
        "colab": {
          "base_uri": "https://localhost:8080/"
        },
        "id": "oWIntpFdmgxB",
        "outputId": "5df59633-1295-462d-b32d-4c7583a45c77"
      },
      "execution_count": 84,
      "outputs": [
        {
          "output_type": "stream",
          "name": "stdout",
          "text": [
            "Jacksonia Life Expectancy:  69.82100000000003\n",
            "Urnessia Life Expectancy:  61.39200000000002\n"
          ]
        }
      ]
    },
    {
      "cell_type": "markdown",
      "source": [
        "## Exercise #5\n",
        "\n",
        "Make a copy of the data and normalize the training data using Z-score.\n",
        "\n",
        "*hint: `.copy()` will be useful here.* \n",
        "\n",
        "Predict the life expectancy with some input parameters using your k-nearest-neighbors function with both the normalized and non-normalized training data. Compare your results. Use a markup cell to describe and explain the differences in a few sentences."
      ],
      "metadata": {
        "id": "91OfntId3DsF"
      }
    },
    {
      "cell_type": "code",
      "source": [
        "# normalizing data\n",
        "\n",
        "norm_subset = clean_subset.copy()\n",
        "\n",
        "expenditure_mean = clean_subset['percentage expenditure'].mean()\n",
        "expenditure_std = clean_subset['percentage expenditure'].std()\n",
        "\n",
        "measles_mean = clean_subset['Measles'].mean()\n",
        "measles_std = clean_subset['Measles'].std()\n",
        "\n",
        "deaths_mean = clean_subset['under-five deaths'].mean()\n",
        "deaths_std = clean_subset['under-five deaths'].std()\n",
        "\n",
        "population_mean = clean_subset['Population'].mean()\n",
        "population_std = clean_subset['Population'].std()"
      ],
      "metadata": {
        "id": "5DahIN02pi2C"
      },
      "execution_count": 85,
      "outputs": []
    },
    {
      "cell_type": "code",
      "source": [
        "# normalizing countries and running them through the knn function again\n",
        "norm_Jacksonia = {\n",
        "    'percentage expenditure': (Jacksonia['percentage expenditure'] - expenditure_mean) / expenditure_std,\n",
        "    'Measles': (Jacksonia['Measles'] - measles_mean) / measles_std,\n",
        "    'under-five deaths': (Jacksonia['under-five deaths'] - deaths_mean) / deaths_std,\n",
        "    'Population': (Jacksonia['Population'] - population_mean) / population_std\n",
        "}\n",
        "\n",
        "norm_Urnessia = {\n",
        "    'percentage expenditure': (Urnessia['percentage expenditure'] - expenditure_mean) / expenditure_std,\n",
        "    'Measles': (Urnessia['Measles'] - measles_mean) / measles_std,\n",
        "    'under-five deaths': (Urnessia['under-five deaths'] - deaths_mean) / deaths_std,\n",
        "    'Population': (Urnessia['Population'] - population_mean) / population_std\n",
        "}\n",
        "\n",
        "# k = 100\n",
        "\n",
        "# Normalized\n",
        "print('Normalized Jacksonia Life Expectancy: ', knn(norm_Jacksonia, norm_subset, 500))\n",
        "print('Normalized Urnessia Life Expectancy: ', knn(norm_Urnessia, norm_subset, 500))\n",
        "\n",
        "print()\n",
        "\n",
        "# Non-normalized\n",
        "print('Non-normalized Jacksonia Life Expectancy: ', knn(Jacksonia, clean_subset, 100))\n",
        "print('Non-normalized Urnessia Life Expectancy: ', knn(Urnessia, clean_subset, 100))"
      ],
      "metadata": {
        "id": "E1silx-Zqjir",
        "outputId": "a9c1c6bc-0233-4e5e-fc25-f637fcbc3a74",
        "colab": {
          "base_uri": "https://localhost:8080/"
        }
      },
      "execution_count": 86,
      "outputs": [
        {
          "output_type": "stream",
          "name": "stdout",
          "text": [
            "Normalized Jacksonia Life Expectancy:  67.88840000000002\n",
            "Normalized Urnessia Life Expectancy:  67.88840000000002\n",
            "\n",
            "Non-normalized Jacksonia Life Expectancy:  69.82100000000003\n",
            "Non-normalized Urnessia Life Expectancy:  61.39200000000002\n"
          ]
        }
      ]
    },
    {
      "cell_type": "markdown",
      "source": [
        "##**Observations**\n",
        "- When running the **non-normalized** test countries through the regression knn\n",
        "function, there **is** a noticable difference in the predicted life expectancy.\n",
        "- When running the **normalized** test countries through the regression knn function, the predictions are **the same**. Even after changing the values drastically, the predicted life expectancy really did not change.\n",
        "- After messing around with the k-values and the values of the test countries, I kept coming to essentially the same outcome.\n",
        "- My theory is that certain predictor variables have larger effects on the predicted life expectancy than others Therefore normalizing the data makes all predictor variables have an equal effect on the predicted life expectancy, so changing them does not have as drastic an effect on the prediction than it would in a non-normalized k-nearest neighbor test."
      ],
      "metadata": {
        "id": "WQ_WTnHysYu5"
      }
    }
  ]
}